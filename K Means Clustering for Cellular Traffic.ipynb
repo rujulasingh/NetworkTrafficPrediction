{
 "cells": [
  {
   "cell_type": "code",
   "execution_count": 93,
   "metadata": {
    "executionInfo": {
     "elapsed": 3932,
     "status": "ok",
     "timestamp": 1609168639787,
     "user": {
      "displayName": "SAI VENKATA VARUN DANDA",
      "photoUrl": "",
      "userId": "15698834906805525550"
     },
     "user_tz": -330
    },
    "id": "j5A-BMFNuCbu"
   },
   "outputs": [],
   "source": [
    "from sklearn.metrics import accuracy_score\n",
    "from tensorflow.keras.layers import BatchNormalization\n",
    "import datetime as dt\n",
    "from sklearn import model_selection\n",
    "from sklearn.metrics import confusion_matrix\n",
    "from sklearn.preprocessing import StandardScaler\n",
    "from sklearn.model_selection import train_test_split\n",
    "import numpy as np\n",
    "import pandas as pd\n",
    "import tensorflow as tf\n",
    "from sklearn.preprocessing import MinMaxScaler\n",
    "from tensorflow.keras.models import Sequential\n",
    "from tensorflow.keras.layers import Dense\n",
    "from tensorflow.keras.layers import LSTM\n",
    "from tensorflow.keras.layers import Bidirectional\n",
    "from tensorflow.keras.layers import Dropout\n",
    "import matplotlib.pyplot as plt\n",
    "from sklearn.cluster import KMeans"
   ]
  },
  {
   "cell_type": "code",
   "execution_count": 94,
   "metadata": {
    "id": "vWYvD5WwuCbv"
   },
   "outputs": [],
   "source": [
    "df1 = pd.read_csv(r\"C:\\Users\\AKG\\Documents\\Ram\\Nokia\\Dataset\\Dataframe1.csv\")\n",
    "df = pd.read_csv(r\"C:\\Users\\AKG\\Documents\\Ram\\Nokia\\Dataset\\Dataframe2.csv\")"
   ]
  },
  {
   "cell_type": "code",
   "execution_count": 95,
   "metadata": {},
   "outputs": [
    {
     "data": {
      "text/plain": [
       "500503"
      ]
     },
     "execution_count": 95,
     "metadata": {},
     "output_type": "execute_result"
    }
   ],
   "source": [
    "len(df1)"
   ]
  },
  {
   "cell_type": "code",
   "execution_count": 96,
   "metadata": {},
   "outputs": [
    {
     "data": {
      "text/plain": [
       "480146"
      ]
     },
     "execution_count": 96,
     "metadata": {},
     "output_type": "execute_result"
    }
   ],
   "source": [
    "len(df)"
   ]
  },
  {
   "cell_type": "markdown",
   "metadata": {},
   "source": [
    "# T=1 Clustering"
   ]
  },
  {
   "cell_type": "code",
   "execution_count": 97,
   "metadata": {},
   "outputs": [],
   "source": [
    "dft1=pd.concat([df1,df])"
   ]
  },
  {
   "cell_type": "code",
   "execution_count": 99,
   "metadata": {},
   "outputs": [],
   "source": [
    "dft1['Uplink/Downlink Ratio']=dft1['UplinkCount']/dft1['DownlinkCount']"
   ]
  },
  {
   "cell_type": "code",
   "execution_count": 100,
   "metadata": {},
   "outputs": [],
   "source": [
    "dft1=dft1.replace([np.inf, -np.inf], np.nan)"
   ]
  },
  {
   "cell_type": "code",
   "execution_count": 101,
   "metadata": {},
   "outputs": [],
   "source": [
    "dft1=dft1.dropna()"
   ]
  },
  {
   "cell_type": "code",
   "execution_count": 103,
   "metadata": {},
   "outputs": [
    {
     "data": {
      "text/html": [
       "<div>\n",
       "<style scoped>\n",
       "    .dataframe tbody tr th:only-of-type {\n",
       "        vertical-align: middle;\n",
       "    }\n",
       "\n",
       "    .dataframe tbody tr th {\n",
       "        vertical-align: top;\n",
       "    }\n",
       "\n",
       "    .dataframe thead th {\n",
       "        text-align: right;\n",
       "    }\n",
       "</style>\n",
       "<table border=\"1\" class=\"dataframe\">\n",
       "  <thead>\n",
       "    <tr style=\"text-align: right;\">\n",
       "      <th></th>\n",
       "      <th>TimeInSec</th>\n",
       "      <th>UplinkSum</th>\n",
       "      <th>UplinkCount</th>\n",
       "      <th>Uplink</th>\n",
       "      <th>DownlinkSum</th>\n",
       "      <th>DownlinkCount</th>\n",
       "      <th>Downlink</th>\n",
       "      <th>Uplink/Downlink Ratio</th>\n",
       "    </tr>\n",
       "  </thead>\n",
       "  <tbody>\n",
       "    <tr>\n",
       "      <th>113</th>\n",
       "      <td>2019-01-25 16:16:12</td>\n",
       "      <td>0.0</td>\n",
       "      <td>0</td>\n",
       "      <td>0</td>\n",
       "      <td>152.0</td>\n",
       "      <td>1</td>\n",
       "      <td>1</td>\n",
       "      <td>0.000000</td>\n",
       "    </tr>\n",
       "    <tr>\n",
       "      <th>114</th>\n",
       "      <td>2019-01-25 16:16:13</td>\n",
       "      <td>344.0</td>\n",
       "      <td>6</td>\n",
       "      <td>1</td>\n",
       "      <td>1052.0</td>\n",
       "      <td>7</td>\n",
       "      <td>1</td>\n",
       "      <td>0.857143</td>\n",
       "    </tr>\n",
       "    <tr>\n",
       "      <th>179</th>\n",
       "      <td>2019-01-25 16:17:18</td>\n",
       "      <td>143.0</td>\n",
       "      <td>2</td>\n",
       "      <td>1</td>\n",
       "      <td>80.0</td>\n",
       "      <td>2</td>\n",
       "      <td>1</td>\n",
       "      <td>1.000000</td>\n",
       "    </tr>\n",
       "    <tr>\n",
       "      <th>282</th>\n",
       "      <td>2019-01-25 16:19:01</td>\n",
       "      <td>40.0</td>\n",
       "      <td>1</td>\n",
       "      <td>1</td>\n",
       "      <td>40.0</td>\n",
       "      <td>1</td>\n",
       "      <td>1</td>\n",
       "      <td>1.000000</td>\n",
       "    </tr>\n",
       "    <tr>\n",
       "      <th>298</th>\n",
       "      <td>2019-01-25 16:19:17</td>\n",
       "      <td>0.0</td>\n",
       "      <td>0</td>\n",
       "      <td>0</td>\n",
       "      <td>60.0</td>\n",
       "      <td>1</td>\n",
       "      <td>1</td>\n",
       "      <td>0.000000</td>\n",
       "    </tr>\n",
       "    <tr>\n",
       "      <th>...</th>\n",
       "      <td>...</td>\n",
       "      <td>...</td>\n",
       "      <td>...</td>\n",
       "      <td>...</td>\n",
       "      <td>...</td>\n",
       "      <td>...</td>\n",
       "      <td>...</td>\n",
       "      <td>...</td>\n",
       "    </tr>\n",
       "    <tr>\n",
       "      <th>480136</th>\n",
       "      <td>2019-02-17 04:45:32</td>\n",
       "      <td>290.0</td>\n",
       "      <td>1</td>\n",
       "      <td>1</td>\n",
       "      <td>40.0</td>\n",
       "      <td>1</td>\n",
       "      <td>1</td>\n",
       "      <td>1.000000</td>\n",
       "    </tr>\n",
       "    <tr>\n",
       "      <th>480137</th>\n",
       "      <td>2019-02-17 04:45:33</td>\n",
       "      <td>366.0</td>\n",
       "      <td>5</td>\n",
       "      <td>1</td>\n",
       "      <td>10772.0</td>\n",
       "      <td>6</td>\n",
       "      <td>1</td>\n",
       "      <td>0.833333</td>\n",
       "    </tr>\n",
       "    <tr>\n",
       "      <th>480140</th>\n",
       "      <td>2019-02-17 04:45:36</td>\n",
       "      <td>348.0</td>\n",
       "      <td>3</td>\n",
       "      <td>1</td>\n",
       "      <td>6360.0</td>\n",
       "      <td>5</td>\n",
       "      <td>1</td>\n",
       "      <td>0.600000</td>\n",
       "    </tr>\n",
       "    <tr>\n",
       "      <th>480144</th>\n",
       "      <td>2019-02-17 04:45:40</td>\n",
       "      <td>280.0</td>\n",
       "      <td>7</td>\n",
       "      <td>1</td>\n",
       "      <td>2376.0</td>\n",
       "      <td>7</td>\n",
       "      <td>1</td>\n",
       "      <td>1.000000</td>\n",
       "    </tr>\n",
       "    <tr>\n",
       "      <th>480145</th>\n",
       "      <td>2019-02-17 04:45:41</td>\n",
       "      <td>0.0</td>\n",
       "      <td>0</td>\n",
       "      <td>0</td>\n",
       "      <td>122.0</td>\n",
       "      <td>2</td>\n",
       "      <td>1</td>\n",
       "      <td>0.000000</td>\n",
       "    </tr>\n",
       "  </tbody>\n",
       "</table>\n",
       "<p>73227 rows × 8 columns</p>\n",
       "</div>"
      ],
      "text/plain": [
       "                  TimeInSec  UplinkSum  UplinkCount  Uplink  DownlinkSum  \\\n",
       "113     2019-01-25 16:16:12        0.0            0       0        152.0   \n",
       "114     2019-01-25 16:16:13      344.0            6       1       1052.0   \n",
       "179     2019-01-25 16:17:18      143.0            2       1         80.0   \n",
       "282     2019-01-25 16:19:01       40.0            1       1         40.0   \n",
       "298     2019-01-25 16:19:17        0.0            0       0         60.0   \n",
       "...                     ...        ...          ...     ...          ...   \n",
       "480136  2019-02-17 04:45:32      290.0            1       1         40.0   \n",
       "480137  2019-02-17 04:45:33      366.0            5       1      10772.0   \n",
       "480140  2019-02-17 04:45:36      348.0            3       1       6360.0   \n",
       "480144  2019-02-17 04:45:40      280.0            7       1       2376.0   \n",
       "480145  2019-02-17 04:45:41        0.0            0       0        122.0   \n",
       "\n",
       "        DownlinkCount  Downlink  Uplink/Downlink Ratio  \n",
       "113                 1         1               0.000000  \n",
       "114                 7         1               0.857143  \n",
       "179                 2         1               1.000000  \n",
       "282                 1         1               1.000000  \n",
       "298                 1         1               0.000000  \n",
       "...               ...       ...                    ...  \n",
       "480136              1         1               1.000000  \n",
       "480137              6         1               0.833333  \n",
       "480140              5         1               0.600000  \n",
       "480144              7         1               1.000000  \n",
       "480145              2         1               0.000000  \n",
       "\n",
       "[73227 rows x 8 columns]"
      ]
     },
     "execution_count": 103,
     "metadata": {},
     "output_type": "execute_result"
    }
   ],
   "source": [
    "dft1"
   ]
  },
  {
   "cell_type": "code",
   "execution_count": 104,
   "metadata": {},
   "outputs": [],
   "source": [
    "dft1a=dft1[['UplinkCount','DownlinkCount']]\n",
    "dft1b=dft1[['UplinkCount','DownlinkCount','Uplink/Downlink Ratio']]"
   ]
  },
  {
   "cell_type": "code",
   "execution_count": 106,
   "metadata": {},
   "outputs": [
    {
     "data": {
      "text/plain": [
       "pandas.core.frame.DataFrame"
      ]
     },
     "execution_count": 106,
     "metadata": {},
     "output_type": "execute_result"
    }
   ],
   "source": [
    "type(dft1a)"
   ]
  },
  {
   "cell_type": "code",
   "execution_count": 109,
   "metadata": {},
   "outputs": [],
   "source": [
    "dft1a=dft1a.to_numpy()"
   ]
  },
  {
   "cell_type": "code",
   "execution_count": 110,
   "metadata": {},
   "outputs": [
    {
     "name": "stderr",
     "output_type": "stream",
     "text": [
      "C:\\Users\\AKG\\Anaconda3\\envs\\Ram\\lib\\site-packages\\sklearn\\cluster\\_kmeans.py:939: FutureWarning: 'n_jobs' was deprecated in version 0.23 and will be removed in 0.25.\n",
      "  \" removed in 0.25.\", FutureWarning)\n"
     ]
    }
   ],
   "source": [
    "kmeans1a= KMeans(n_clusters=4, n_jobs=-1, init='k-means++')\n",
    "y1a_kmeans = kmeans1a.fit_predict(dft1a)"
   ]
  },
  {
   "cell_type": "code",
   "execution_count": 111,
   "metadata": {},
   "outputs": [
    {
     "data": {
      "text/plain": [
       "<matplotlib.collections.PathCollection at 0x177dd7f0c08>"
      ]
     },
     "execution_count": 111,
     "metadata": {},
     "output_type": "execute_result"
    },
    {
     "data": {
      "image/png": "[encoded data removed]",
      "text/plain": [
       "<Figure size 432x288 with 1 Axes>"
      ]
     },
     "metadata": {
      "needs_background": "light"
     },
     "output_type": "display_data"
    }
   ],
   "source": [
    "plt.scatter(dft1a[y1a_kmeans==0, 0], dft1a[y1a_kmeans==0, 1], c='green', label ='Cluster 1')\n",
    "plt.scatter(dft1a[y1a_kmeans==1, 0], dft1a[y1a_kmeans==1, 1], c='blue', label ='Cluster 2')\n",
    "plt.scatter(dft1a[y1a_kmeans==2, 0], dft1a[y1a_kmeans==2, 1], c='yellow', label ='Cluster 3')\n",
    "plt.scatter(dft1a[y1a_kmeans==3, 0], dft1a[y1a_kmeans==3, 1], c='cyan', label ='Cluster 4')\n",
    "plt.scatter(kmeans1a.cluster_centers_[:, 0], kmeans1a.cluster_centers_[:, 1], c='red', label = 'Centroids')"
   ]
  },
  {
   "cell_type": "code",
   "execution_count": 112,
   "metadata": {},
   "outputs": [],
   "source": [
    "dft1b=dft1b.to_numpy()"
   ]
  },
  {
   "cell_type": "code",
   "execution_count": 113,
   "metadata": {},
   "outputs": [
    {
     "name": "stderr",
     "output_type": "stream",
     "text": [
      "C:\\Users\\AKG\\Anaconda3\\envs\\Ram\\lib\\site-packages\\sklearn\\cluster\\_kmeans.py:939: FutureWarning: 'n_jobs' was deprecated in version 0.23 and will be removed in 0.25.\n",
      "  \" removed in 0.25.\", FutureWarning)\n"
     ]
    }
   ],
   "source": [
    "kmeans1b= KMeans(n_clusters=4, n_jobs=-1, init='k-means++')\n",
    "y1b_kmeans = kmeans1b.fit_predict(dft1b)"
   ]
  },
  {
   "cell_type": "code",
   "execution_count": 114,
   "metadata": {},
   "outputs": [
    {
     "data": {
      "text/plain": [
       "<matplotlib.collections.PathCollection at 0x177dfc0edc8>"
      ]
     },
     "execution_count": 114,
     "metadata": {},
     "output_type": "execute_result"
    },
    {
     "data": {
      "image/png": "[encoded data removed]",
      "text/plain": [
       "<Figure size 432x288 with 1 Axes>"
      ]
     },
     "metadata": {
      "needs_background": "light"
     },
     "output_type": "display_data"
    }
   ],
   "source": [
    "plt.scatter(dft1b[y1b_kmeans==0, 0], dft1b[y1b_kmeans==0, 1], c='green', label ='Cluster 1')\n",
    "plt.scatter(dft1b[y1b_kmeans==1, 0], dft1b[y1b_kmeans==1, 1], c='blue', label ='Cluster 2')\n",
    "plt.scatter(dft1b[y1b_kmeans==2, 0], dft1b[y1b_kmeans==2, 1], c='yellow', label ='Cluster 3')\n",
    "plt.scatter(dft1b[y1b_kmeans==3, 0], dft1b[y1b_kmeans==3, 1], c='cyan', label ='Cluster 4')\n",
    "plt.scatter(kmeans1b.cluster_centers_[:, 0], kmeans1b.cluster_centers_[:, 1], c='red', label = 'Centroids')"
   ]
  },
  {
   "cell_type": "markdown",
   "metadata": {},
   "source": [
    "# T=30 Clustering"
   ]
  },
  {
   "cell_type": "code",
   "execution_count": 132,
   "metadata": {},
   "outputs": [],
   "source": [
    "dft30=pd.concat([df1,df])"
   ]
  },
  {
   "cell_type": "code",
   "execution_count": 133,
   "metadata": {},
   "outputs": [
    {
     "data": {
      "text/plain": [
       "980649"
      ]
     },
     "execution_count": 133,
     "metadata": {},
     "output_type": "execute_result"
    }
   ],
   "source": [
    "len(dft30)"
   ]
  },
  {
   "cell_type": "code",
   "execution_count": 134,
   "metadata": {},
   "outputs": [],
   "source": [
    "dft30=dft30.groupby(dft30.index//30).sum()"
   ]
  },
  {
   "cell_type": "code",
   "execution_count": 135,
   "metadata": {},
   "outputs": [
    {
     "data": {
      "text/plain": [
       "16684"
      ]
     },
     "execution_count": 135,
     "metadata": {},
     "output_type": "execute_result"
    }
   ],
   "source": [
    "len(dft30)"
   ]
  },
  {
   "cell_type": "code",
   "execution_count": 136,
   "metadata": {},
   "outputs": [],
   "source": [
    "dft30['Uplink/Downlink Ratio']=dft30['UplinkCount']/dft30['DownlinkCount']"
   ]
  },
  {
   "cell_type": "code",
   "execution_count": 137,
   "metadata": {},
   "outputs": [],
   "source": [
    "dft30=dft30.replace([np.inf, -np.inf], np.nan)"
   ]
  },
  {
   "cell_type": "code",
   "execution_count": 138,
   "metadata": {},
   "outputs": [],
   "source": [
    "dft30=dft30.dropna()"
   ]
  },
  {
   "cell_type": "code",
   "execution_count": 139,
   "metadata": {},
   "outputs": [
    {
     "data": {
      "text/plain": [
       "9251"
      ]
     },
     "execution_count": 139,
     "metadata": {},
     "output_type": "execute_result"
    }
   ],
   "source": [
    "len(dft30)"
   ]
  },
  {
   "cell_type": "code",
   "execution_count": 140,
   "metadata": {},
   "outputs": [],
   "source": [
    "dft30a=dft30[['UplinkCount','DownlinkCount']]\n",
    "dft30b=dft30[['UplinkCount','DownlinkCount','Uplink/Downlink Ratio']]"
   ]
  },
  {
   "cell_type": "code",
   "execution_count": 141,
   "metadata": {},
   "outputs": [],
   "source": [
    "dft30a=dft30a.to_numpy()"
   ]
  },
  {
   "cell_type": "code",
   "execution_count": 142,
   "metadata": {},
   "outputs": [
    {
     "name": "stderr",
     "output_type": "stream",
     "text": [
      "C:\\Users\\AKG\\Anaconda3\\envs\\Ram\\lib\\site-packages\\sklearn\\cluster\\_kmeans.py:939: FutureWarning: 'n_jobs' was deprecated in version 0.23 and will be removed in 0.25.\n",
      "  \" removed in 0.25.\", FutureWarning)\n"
     ]
    }
   ],
   "source": [
    "kmeans30a= KMeans(n_clusters=4, n_jobs=-1, init='k-means++')\n",
    "y30a_kmeans = kmeans30a.fit_predict(dft30a)"
   ]
  },
  {
   "cell_type": "code",
   "execution_count": 143,
   "metadata": {},
   "outputs": [
    {
     "data": {
      "text/plain": [
       "<matplotlib.collections.PathCollection at 0x177c8996388>"
      ]
     },
     "execution_count": 143,
     "metadata": {},
     "output_type": "execute_result"
    },
    {
     "data": {
      "image/png": "[encoded data removed]",
      "text/plain": [
       "<Figure size 432x288 with 1 Axes>"
      ]
     },
     "metadata": {
      "needs_background": "light"
     },
     "output_type": "display_data"
    }
   ],
   "source": [
    "plt.scatter(dft30a[y30a_kmeans==0, 0], dft30a[y30a_kmeans==0, 1], c='green', label ='Cluster 1')\n",
    "plt.scatter(dft30a[y30a_kmeans==1, 0], dft30a[y30a_kmeans==1, 1], c='blue', label ='Cluster 2')\n",
    "plt.scatter(dft30a[y30a_kmeans==2, 0], dft30a[y30a_kmeans==2, 1], c='yellow', label ='Cluster 3')\n",
    "plt.scatter(dft30a[y30a_kmeans==3, 0], dft30a[y30a_kmeans==3, 1], c='cyan', label ='Cluster 4')\n",
    "plt.scatter(kmeans30a.cluster_centers_[:, 0], kmeans30a.cluster_centers_[:, 1], c='red', label = 'Centroids')"
   ]
  },
  {
   "cell_type": "code",
   "execution_count": 144,
   "metadata": {},
   "outputs": [],
   "source": [
    "dft30b=dft30b.to_numpy()"
   ]
  },
  {
   "cell_type": "code",
   "execution_count": 145,
   "metadata": {},
   "outputs": [
    {
     "name": "stderr",
     "output_type": "stream",
     "text": [
      "C:\\Users\\AKG\\Anaconda3\\envs\\Ram\\lib\\site-packages\\sklearn\\cluster\\_kmeans.py:939: FutureWarning: 'n_jobs' was deprecated in version 0.23 and will be removed in 0.25.\n",
      "  \" removed in 0.25.\", FutureWarning)\n"
     ]
    }
   ],
   "source": [
    "kmeans30b= KMeans(n_clusters=4, n_jobs=-1, init='k-means++')\n",
    "y30b_kmeans = kmeans30b.fit_predict(dft30b)"
   ]
  },
  {
   "cell_type": "code",
   "execution_count": 146,
   "metadata": {},
   "outputs": [
    {
     "data": {
      "text/plain": [
       "<matplotlib.collections.PathCollection at 0x177dd611808>"
      ]
     },
     "execution_count": 146,
     "metadata": {},
     "output_type": "execute_result"
    },
    {
     "data": {
      "image/png": "[encoded data removed]",
      "text/plain": [
       "<Figure size 432x288 with 1 Axes>"
      ]
     },
     "metadata": {
      "needs_background": "light"
     },
     "output_type": "display_data"
    }
   ],
   "source": [
    "plt.scatter(dft30b[y30b_kmeans==0, 0], dft30b[y30b_kmeans==0, 1], c='green', label ='Cluster 1')\n",
    "plt.scatter(dft30b[y30b_kmeans==1, 0], dft30b[y30b_kmeans==1, 1], c='blue', label ='Cluster 2')\n",
    "plt.scatter(dft30b[y30b_kmeans==2, 0], dft30b[y30b_kmeans==2, 1], c='yellow', label ='Cluster 3')\n",
    "plt.scatter(dft30b[y30b_kmeans==3, 0], dft30b[y30b_kmeans==3, 1], c='cyan', label ='Cluster 4')\n",
    "plt.scatter(kmeans30b.cluster_centers_[:, 0], kmeans30b.cluster_centers_[:, 1], c='red', label = 'Centroids')"
   ]
  },
  {
   "cell_type": "markdown",
   "metadata": {},
   "source": [
    "# T=60 Clustering"
   ]
  },
  {
   "cell_type": "code",
   "execution_count": 147,
   "metadata": {},
   "outputs": [],
   "source": [
    "dft60=pd.concat([df1,df])"
   ]
  },
  {
   "cell_type": "code",
   "execution_count": 148,
   "metadata": {},
   "outputs": [
    {
     "data": {
      "text/plain": [
       "980649"
      ]
     },
     "execution_count": 148,
     "metadata": {},
     "output_type": "execute_result"
    }
   ],
   "source": [
    "len(dft60)"
   ]
  },
  {
   "cell_type": "code",
   "execution_count": 149,
   "metadata": {},
   "outputs": [],
   "source": [
    "dft60=dft60.groupby(dft60.index//60).sum()"
   ]
  },
  {
   "cell_type": "code",
   "execution_count": 150,
   "metadata": {},
   "outputs": [
    {
     "data": {
      "text/plain": [
       "8342"
      ]
     },
     "execution_count": 150,
     "metadata": {},
     "output_type": "execute_result"
    }
   ],
   "source": [
    "len(dft60)"
   ]
  },
  {
   "cell_type": "code",
   "execution_count": 151,
   "metadata": {},
   "outputs": [],
   "source": [
    "dft60['Uplink/Downlink Ratio']=dft60['UplinkCount']/dft60['DownlinkCount']"
   ]
  },
  {
   "cell_type": "code",
   "execution_count": 152,
   "metadata": {},
   "outputs": [],
   "source": [
    "dft60=dft60.replace([np.inf, -np.inf], np.nan)"
   ]
  },
  {
   "cell_type": "code",
   "execution_count": 153,
   "metadata": {},
   "outputs": [],
   "source": [
    "dft60=dft60.dropna()"
   ]
  },
  {
   "cell_type": "code",
   "execution_count": 154,
   "metadata": {},
   "outputs": [
    {
     "data": {
      "text/plain": [
       "6053"
      ]
     },
     "execution_count": 154,
     "metadata": {},
     "output_type": "execute_result"
    }
   ],
   "source": [
    "len(dft60)"
   ]
  },
  {
   "cell_type": "code",
   "execution_count": 155,
   "metadata": {},
   "outputs": [],
   "source": [
    "dft60a=dft60[['UplinkCount','DownlinkCount']]\n",
    "dft60b=dft60[['UplinkCount','DownlinkCount','Uplink/Downlink Ratio']]"
   ]
  },
  {
   "cell_type": "code",
   "execution_count": 158,
   "metadata": {},
   "outputs": [],
   "source": [
    "dft60a=dft60a.to_numpy()"
   ]
  },
  {
   "cell_type": "code",
   "execution_count": 159,
   "metadata": {},
   "outputs": [
    {
     "name": "stderr",
     "output_type": "stream",
     "text": [
      "C:\\Users\\AKG\\Anaconda3\\envs\\Ram\\lib\\site-packages\\sklearn\\cluster\\_kmeans.py:939: FutureWarning: 'n_jobs' was deprecated in version 0.23 and will be removed in 0.25.\n",
      "  \" removed in 0.25.\", FutureWarning)\n"
     ]
    }
   ],
   "source": [
    "kmeans60a= KMeans(n_clusters=4, n_jobs=-1, init='k-means++')\n",
    "y60a_kmeans = kmeans60a.fit_predict(dft60a)"
   ]
  },
  {
   "cell_type": "code",
   "execution_count": 160,
   "metadata": {},
   "outputs": [
    {
     "data": {
      "text/plain": [
       "<matplotlib.collections.PathCollection at 0x177dfc79988>"
      ]
     },
     "execution_count": 160,
     "metadata": {},
     "output_type": "execute_result"
    },
    {
     "data": {
      "image/png": "[encoded data removed]",
      "text/plain": [
       "<Figure size 432x288 with 1 Axes>"
      ]
     },
     "metadata": {
      "needs_background": "light"
     },
     "output_type": "display_data"
    }
   ],
   "source": [
    "plt.scatter(dft60a[y60a_kmeans==0, 0], dft60a[y60a_kmeans==0, 1], c='green', label ='Cluster 1')\n",
    "plt.scatter(dft60a[y60a_kmeans==1, 0], dft60a[y60a_kmeans==1, 1], c='blue', label ='Cluster 2')\n",
    "plt.scatter(dft60a[y60a_kmeans==2, 0], dft60a[y60a_kmeans==2, 1], c='yellow', label ='Cluster 3')\n",
    "plt.scatter(dft60a[y60a_kmeans==3, 0], dft60a[y60a_kmeans==3, 1], c='cyan', label ='Cluster 4')\n",
    "plt.scatter(kmeans60a.cluster_centers_[:, 0], kmeans60a.cluster_centers_[:, 1], c='red', label = 'Centroids')"
   ]
  },
  {
   "cell_type": "code",
   "execution_count": 162,
   "metadata": {},
   "outputs": [],
   "source": [
    "dft60b=dft60b.to_numpy()"
   ]
  },
  {
   "cell_type": "code",
   "execution_count": 163,
   "metadata": {},
   "outputs": [
    {
     "name": "stderr",
     "output_type": "stream",
     "text": [
      "C:\\Users\\AKG\\Anaconda3\\envs\\Ram\\lib\\site-packages\\sklearn\\cluster\\_kmeans.py:939: FutureWarning: 'n_jobs' was deprecated in version 0.23 and will be removed in 0.25.\n",
      "  \" removed in 0.25.\", FutureWarning)\n"
     ]
    }
   ],
   "source": [
    "kmeans60b= KMeans(n_clusters=4, n_jobs=-1, init='k-means++')\n",
    "y60b_kmeans = kmeans60b.fit_predict(dft60b)"
   ]
  },
  {
   "cell_type": "code",
   "execution_count": 164,
   "metadata": {},
   "outputs": [
    {
     "data": {
      "text/plain": [
       "<matplotlib.collections.PathCollection at 0x177c8ab4188>"
      ]
     },
     "execution_count": 164,
     "metadata": {},
     "output_type": "execute_result"
    },
    {
     "data": {
      "image/png": "[encoded data removed]",
      "text/plain": [
       "<Figure size 432x288 with 1 Axes>"
      ]
     },
     "metadata": {
      "needs_background": "light"
     },
     "output_type": "display_data"
    }
   ],
   "source": [
    "plt.scatter(dft60b[y60b_kmeans==0, 0], dft60b[y60b_kmeans==0, 1], c='green', label ='Cluster 1')\n",
    "plt.scatter(dft60b[y60b_kmeans==1, 0], dft60b[y60b_kmeans==1, 1], c='blue', label ='Cluster 2')\n",
    "plt.scatter(dft60b[y60b_kmeans==2, 0], dft60b[y60b_kmeans==2, 1], c='yellow', label ='Cluster 3')\n",
    "plt.scatter(dft60b[y60b_kmeans==3, 0], dft60b[y60b_kmeans==3, 1], c='cyan', label ='Cluster 4')\n",
    "plt.scatter(kmeans60b.cluster_centers_[:, 0], kmeans60b.cluster_centers_[:, 1], c='red', label = 'Centroids')"
   ]
  }
 ],
 "metadata": {
  "colab": {
   "name": "LSTM_IMPLEMENTATION-jonnomodel-Copy1.ipynb",
   "provenance": [],
   "toc_visible": true
  },
  "kernelspec": {
   "display_name": "Python [conda env:Ram] *",
   "language": "python",
   "name": "conda-env-Ram-py"
  },
  "language_info": {
   "codemirror_mode": {
    "name": "ipython",
    "version": 3
   },
   "file_extension": ".py",
   "mimetype": "text/x-python",
   "name": "python",
   "nbconvert_exporter": "python",
   "pygments_lexer": "ipython3",
   "version": "3.7.7"
  }
 },
 "nbformat": 4,
 "nbformat_minor": 1
}
